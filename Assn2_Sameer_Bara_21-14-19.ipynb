{
 "cells": [
  {
   "cell_type": "markdown",
   "id": "1904ad72",
   "metadata": {},
   "source": [
    "  #             Assignment - 2 "
   ]
  },
  {
   "cell_type": "markdown",
   "id": "b68f7606",
   "metadata": {},
   "source": [
    "#    Data Science: Tools and Techniques (AM 624D)                     "
   ]
  },
  {
   "cell_type": "markdown",
   "id": "2eacfd0b",
   "metadata": {},
   "source": [
    "## Name : Sameer Bara"
   ]
  },
  {
   "cell_type": "markdown",
   "id": "5e11af93",
   "metadata": {},
   "source": [
    "## Reg. No. : 21-14-19"
   ]
  },
  {
   "cell_type": "markdown",
   "id": "4b1e1647",
   "metadata": {},
   "source": [
    "1. A program to input two numbers and perform their addition -"
   ]
  },
  {
   "cell_type": "code",
   "execution_count": 1,
   "id": "b740acf7",
   "metadata": {},
   "outputs": [
    {
     "name": "stdout",
     "output_type": "stream",
     "text": [
      "Enter the first number (a) : 2\n",
      "Enter the second number (b): 5\n",
      "Addition of first number (a) and second number (b) : 7.0\n"
     ]
    }
   ],
   "source": [
    "a=float(input(\"Enter the first number (a) : \"))\n",
    "b=float(input(\"Enter the second number (b): \"))\n",
    "s=a+b\n",
    "print(\"Addition of first number (a) and second number (b) :\" , s)"
   ]
  },
  {
   "cell_type": "markdown",
   "id": "48688362",
   "metadata": {},
   "source": [
    "2. A program to input marks and calculate the grade of a student as per the DIAT norms -"
   ]
  },
  {
   "cell_type": "code",
   "execution_count": 113,
   "id": "f05f843e",
   "metadata": {},
   "outputs": [
    {
     "name": "stdout",
     "output_type": "stream",
     "text": [
      "Enter the Grade Point of AM621 : 9\n",
      "Enter the Grade Point of AM622 : 9.5\n",
      "Enter the Grade Point of AM623 : 10\n",
      "Enter the Grade Point of AM624D : 10\n",
      "Enter the Grade Point of ME607 : 10\n",
      "Enter the Grade Point of ME660 : 10\n",
      "Pass\n",
      "SGPA : 9.75\n"
     ]
    }
   ],
   "source": [
    "a=float(input(\"Enter the Grade Point of AM621 : \"))\n",
    "b=float(input(\"Enter the Grade Point of AM622 : \"))\n",
    "c=float(input(\"Enter the Grade Point of AM623 : \"))\n",
    "d=float(input(\"Enter the Grade Point of AM624D : \"))\n",
    "e=float(input(\"Enter the Grade Point of ME607 : \"))\n",
    "f=float(input(\"Enter the Grade Point of ME660 : \"))\n",
    "\n",
    "x=4    #( Where x = Credit )\n",
    "\n",
    "y = (x*(a+b+c+d+e+f))/(6*x)\n",
    "\n",
    "if (a>4) and (b>4) and(c>4) and(d>4) and(e>4) and(f>4):\n",
    "    print(\"Pass\")\n",
    "    print(\"SGPA :\" , y)\n",
    "\n",
    "else:\n",
    "   print(\"Fail\")"
   ]
  },
  {
   "cell_type": "markdown",
   "id": "664ac848",
   "metadata": {},
   "source": [
    "3. A program to find largest among 3 numbers -"
   ]
  },
  {
   "cell_type": "code",
   "execution_count": 55,
   "id": "95014db6",
   "metadata": {},
   "outputs": [
    {
     "name": "stdout",
     "output_type": "stream",
     "text": [
      "Enter first number: 5\n",
      "Enter second number: 8\n",
      "Enter third number: 1\n",
      "The largest number is 8.0\n"
     ]
    }
   ],
   "source": [
    "a = float(input(\"Enter first number: \"))\n",
    "b = float(input(\"Enter second number: \"))\n",
    "c = float(input(\"Enter third number: \"))\n",
    "\n",
    "if (a > b) and (a > b):\n",
    "   largest = a\n",
    "elif (b > a) and (b > c):\n",
    "   largest = b\n",
    "else:\n",
    "   largest = c\n",
    "\n",
    "print(\"The largest number is\", largest)"
   ]
  },
  {
   "cell_type": "markdown",
   "id": "1b30075d",
   "metadata": {},
   "source": [
    "4. A program to input number of lines from the user and print the patterns: If the user enters 4 following patters should be printed:\n",
    "*\n",
    "**\n",
    "***\n",
    "****"
   ]
  },
  {
   "cell_type": "code",
   "execution_count": 38,
   "id": "98f9c348",
   "metadata": {},
   "outputs": [
    {
     "name": "stdout",
     "output_type": "stream",
     "text": [
      "*\r\n",
      "**\r\n",
      "***\r\n",
      "****\r\n"
     ]
    }
   ],
   "source": [
    "def pypart(n):\n",
    "     \n",
    "    for i in range(0, n):\n",
    "     \n",
    "        for j in range(0, i+1):\n",
    "         \n",
    "            # printing stars\n",
    "            print(\"*\",end=\"\")\n",
    "      \n",
    "        # ending line after each row\n",
    "        print(\"\\r\")\n",
    " \n",
    "n = 4\n",
    "pypart(n)"
   ]
  },
  {
   "cell_type": "markdown",
   "id": "ed30206f",
   "metadata": {},
   "source": [
    "5. A program to print the Diamond Pattern"
   ]
  },
  {
   "cell_type": "code",
   "execution_count": 15,
   "id": "d1bacbd4",
   "metadata": {},
   "outputs": [
    {
     "name": "stdout",
     "output_type": "stream",
     "text": [
      "   * \n",
      "  * *\n",
      " * * *\n",
      "  * *\n",
      "   *\n"
     ]
    }
   ],
   "source": [
    "print('   * \\n  * *\\n * * *\\n  * *\\n   *')"
   ]
  },
  {
   "cell_type": "markdown",
   "id": "c6a81ad8",
   "metadata": {},
   "source": [
    "6. A program to print the following pattern \n",
    "*\n",
    "**\n",
    "***\n",
    "**\n",
    "*"
   ]
  },
  {
   "cell_type": "code",
   "execution_count": 36,
   "id": "29a191f9",
   "metadata": {},
   "outputs": [
    {
     "name": "stdout",
     "output_type": "stream",
     "text": [
      "* \n",
      "**\n",
      "***\n",
      "**\n",
      "*\n"
     ]
    }
   ],
   "source": [
    "print('* \\n**\\n***\\n**\\n*')"
   ]
  },
  {
   "cell_type": "markdown",
   "id": "d1a27746",
   "metadata": {},
   "source": [
    "7. Write a program to make a List in Python and perform following operations on List:"
   ]
  },
  {
   "cell_type": "code",
   "execution_count": 85,
   "id": "8854ddbf",
   "metadata": {},
   "outputs": [
    {
     "name": "stdout",
     "output_type": "stream",
     "text": [
      "Length of a list : 12\n",
      "Element at index 0 of a list : 1\n",
      "Updated list : [1, 4, 4, 4, 6, 3, 6, 5, 8, 9, 10, 17, 100, 101, 102]\n"
     ]
    }
   ],
   "source": [
    " \"\"\"\n",
    " a). length using len() function\n",
    " b). print element at index 0\n",
    " c). adding an element to the list using + operator\n",
    " \"\"\"\n",
    "list = [1, 4, 4, 4, 6, 3, 6, 5, 8, 9, 10, 17]\n",
    "\n",
    "a = len(list)\n",
    "b = list[0]\n",
    "list += [100, 101, 102]\n",
    "\n",
    "print(\"Length of a list :\" , a)\n",
    "print(\"Element at index 0 of a list :\" , b)\n",
    "print(\"Updated list :\" , list)"
   ]
  },
  {
   "cell_type": "code",
   "execution_count": 86,
   "id": "3096a896",
   "metadata": {},
   "outputs": [
    {
     "name": "stdout",
     "output_type": "stream",
     "text": [
      "appended list : [1, 4, 4, 4, 6, 3, 6, 5, 8, 9, 10, 17, 100, 101, 102, 999]\n"
     ]
    }
   ],
   "source": [
    "# d) Appending an element to the list \n",
    "\n",
    "list.append(999)\n",
    "print(\"appended list :\" , list)"
   ]
  },
  {
   "cell_type": "code",
   "execution_count": 87,
   "id": "279f16ad",
   "metadata": {},
   "outputs": [
    {
     "name": "stdout",
     "output_type": "stream",
     "text": [
      "Element at index (-1) of a list : 999\n"
     ]
    }
   ],
   "source": [
    "# e) Ngative indexing in list\n",
    "\n",
    "c = list[-1]\n",
    "print(\"Element at index (-1) of a list :\" , c)\n"
   ]
  },
  {
   "cell_type": "code",
   "execution_count": 88,
   "id": "71d4e17f",
   "metadata": {},
   "outputs": [
    {
     "name": "stdout",
     "output_type": "stream",
     "text": [
      "The original list is : [1, 4, 4, 4, 6, 3, 6, 5, 8, 9, 10, 17, 100, 101, 102, 999]\n",
      "The required Negative index : -6\n"
     ]
    }
   ],
   "source": [
    "# e) Ngative indexing in list\n",
    "\n",
    "print(\"The original list is : \" + str(list))\n",
    "\n",
    "\n",
    "K = 10\n",
    " \n",
    "# -1 operator to reverse list, index() used to get index\n",
    "res = ~list[::-1].index(K)\n",
    " \n",
    "# printing result\n",
    "print(\"The required Negative index : \" + str(res))"
   ]
  },
  {
   "cell_type": "code",
   "execution_count": 92,
   "id": "39e9c20a",
   "metadata": {},
   "outputs": [
    {
     "name": "stdout",
     "output_type": "stream",
     "text": [
      "Remove first element of a list : [4, 4, 5, 6, 6, 8, 9, 10, 17, 100, 101, 102, 999]\n",
      "Reversed list : [999, 102, 101, 100, 17, 10, 9, 8, 6, 6, 5, 4, 4]\n",
      "Sorted list : [4, 4, 5, 6, 6, 8, 9, 10, 17, 100, 101, 102, 999]\n"
     ]
    }
   ],
   "source": [
    "\"\"\"\n",
    "f) Remove the first occurrence of element a from list\n",
    "g) Reverse the list\n",
    "h) sort list\n",
    "\"\"\"\n",
    "\n",
    "list.remove(list[0])\n",
    "print(\"Remove first element of a list :\" , list)\n",
    "\n",
    "list.reverse()\n",
    "print(\"Reversed list :\" , list)\n",
    "\n",
    "list.sort()\n",
    "print(\"Sorted list :\" , list)"
   ]
  },
  {
   "cell_type": "markdown",
   "id": "89d8b19a",
   "metadata": {},
   "source": [
    "8. A program to demonstrate use of Dictionary in Python with their inbuilt functions.\n"
   ]
  },
  {
   "cell_type": "code",
   "execution_count": 112,
   "id": "d6c0266f",
   "metadata": {},
   "outputs": [
    {
     "name": "stdout",
     "output_type": "stream",
     "text": [
      "Dictionary with the use of dict : \n",
      "{1: 'Data', 2: 'Science:', 3: 'Tools', 4: 'and', 5: 'Techniques'}\n"
     ]
    }
   ],
   "source": [
    "Dict = dict({1: 'Data', 2: 'Science:', 3:'Tools', 4: 'and', 5:'Techniques'})\n",
    "print(\"Dictionary with the use of dict : \")\n",
    "print(Dict)"
   ]
  },
  {
   "cell_type": "markdown",
   "id": "4a01a7e2",
   "metadata": {},
   "source": [
    "9.  A program to demonstrate use of Set in Python with their inbuilt functions"
   ]
  },
  {
   "cell_type": "code",
   "execution_count": 107,
   "id": "f1e777b1",
   "metadata": {},
   "outputs": [
    {
     "name": "stdout",
     "output_type": "stream",
     "text": [
      "Set (add) after updating: {'f', 's', 'r', 'p', 'q'}\n",
      "\n",
      "Set after updating: {'f', 's', 'r', 'p', 'q'}\n",
      "\n",
      "Set after updating: {'f', 's', 'r', 'q'}\n",
      "\n",
      "Popped element f\n",
      "Set after updating: {'s', 'r', 'q'}\n",
      "\n",
      "Set after updating: set()\n"
     ]
    }
   ],
   "source": [
    "# set of letters\n",
    "s = {'p', 'q', 'r', 's'}\n",
    " \n",
    "# adding 's'\n",
    "s.add('f')\n",
    "print('Set (add) after updating:', s)\n",
    " \n",
    "# Discarding element from the set\n",
    "s.discard('g')\n",
    "print('\\nSet after updating:', s)\n",
    " \n",
    "# Removing element from the set\n",
    "s.remove('p')\n",
    "print('\\nSet after updating:', s)\n",
    " \n",
    "# Popping elements from the set\n",
    "print('\\nPopped element', s.pop())\n",
    "print('Set after updating:', s)\n",
    " \n",
    "s.clear()\n",
    "print('\\nSet after updating:', s)"
   ]
  },
  {
   "cell_type": "markdown",
   "id": "b0651851",
   "metadata": {},
   "source": [
    "10. Write a program to demonstrate use of Tuple in Python with their inbuilt functions "
   ]
  },
  {
   "cell_type": "code",
   "execution_count": 101,
   "id": "8a9e637d",
   "metadata": {},
   "outputs": [
    {
     "name": "stdout",
     "output_type": "stream",
     "text": [
      "Show the value :  (2, 3, 5, 6, 4, 8, 2, 1, 6, 5, 1, 0, 5, 5, 9, 5, 4, 5)\n",
      "Type of X :  <class 'tuple'>\n"
     ]
    }
   ],
   "source": [
    "x = (2,3,5,6,4,8,2,1,6,5,1,0,5,5,9,5,4,5)\n",
    "print( \"Show the value : \", X)\n",
    "x = type(x)\n",
    "print( \"Type of X : \", x)\n"
   ]
  },
  {
   "cell_type": "markdown",
   "id": "25393109",
   "metadata": {},
   "source": [
    "11. A program to calculate Median using List -"
   ]
  },
  {
   "cell_type": "code",
   "execution_count": 9,
   "id": "92850756",
   "metadata": {},
   "outputs": [
    {
     "name": "stdout",
     "output_type": "stream",
     "text": [
      "The original list : [4, 4, 6, 3, 6, 5, 8, 9, 10, 17]\n",
      "Median of list is : 6.0\n"
     ]
    }
   ],
   "source": [
    "import statistics\n",
    "  \n",
    "# initializing list\n",
    "test_list = [4, 4, 6, 3, 6, 5, 8, 9, 10, 17]\n",
    "  \n",
    "# printing list\n",
    "print(\"The original list : \" + str(test_list))\n",
    "  \n",
    "# Median of list\n",
    "# Using statistics.median()\n",
    "res = statistics.median(test_list)\n",
    "  \n",
    "# Printing result\n",
    "print(\"Median of list is : \" + str(res))"
   ]
  },
  {
   "cell_type": "markdown",
   "id": "24a6e3b3",
   "metadata": {},
   "source": [
    "12. A program to calculate Mode using List - "
   ]
  },
  {
   "cell_type": "code",
   "execution_count": 10,
   "id": "218ca8ca",
   "metadata": {},
   "outputs": [
    {
     "name": "stdout",
     "output_type": "stream",
     "text": [
      "The original list : [4, 4, 4, 6, 3, 6, 5, 8, 9, 10, 17]\n",
      "mode of list is : 4\n"
     ]
    }
   ],
   "source": [
    "import statistics\n",
    "  \n",
    "# initializing list\n",
    "test_list = [4, 4, 4, 6, 3, 6, 5, 8, 9, 10, 17]\n",
    "  \n",
    "# printing list\n",
    "print(\"The original list : \" + str(test_list))\n",
    "  \n",
    "# Median of list\n",
    "# Using statistics.mode()\n",
    "res = statistics.mode(test_list)\n",
    "  \n",
    "# Printing result\n",
    "print(\"mode of list is : \" + str(res))"
   ]
  },
  {
   "cell_type": "markdown",
   "id": "9b673bec",
   "metadata": {},
   "source": [
    "13. A program to calculate Mean using List"
   ]
  },
  {
   "cell_type": "code",
   "execution_count": 12,
   "id": "6679b229",
   "metadata": {},
   "outputs": [
    {
     "name": "stdout",
     "output_type": "stream",
     "text": [
      "The original list : [4, 4, 4, 6, 3, 6, 5, 8, 9, 10, 17]\n",
      "mean of list is : 6.909090909090909\n"
     ]
    }
   ],
   "source": [
    "import statistics\n",
    "  \n",
    "# initializing list\n",
    "test_list = [4, 4, 4, 6, 3, 6, 5, 8, 9, 10, 17]\n",
    "  \n",
    "# printing list\n",
    "print(\"The original list : \" + str(test_list))\n",
    "  \n",
    "# Median of list\n",
    "# Using statistics.mean()\n",
    "res = statistics.mean(test_list)\n",
    "  \n",
    "# Printing result\n",
    "print(\"mean of list is : \" + str(res))"
   ]
  },
  {
   "cell_type": "markdown",
   "id": "4731b5c9",
   "metadata": {},
   "source": [
    "14. A program to demonstrate list creation, append entire list to another list"
   ]
  },
  {
   "cell_type": "code",
   "execution_count": 8,
   "id": "c92f8415",
   "metadata": {},
   "outputs": [
    {
     "name": "stdout",
     "output_type": "stream",
     "text": [
      "list :  [4, 4, 4, 6, 3, 6, 5, 8, 9, 10, 17]\n",
      "Updated list :  [4, 4, 4, 6, 3, 6, 5, 8, 9, 10, 17, 5, 5, [0, 1, 2, 3, 4, 5, 6, 7, 8, 9]]\n"
     ]
    }
   ],
   "source": [
    "list0 = [4, 4, 4, 6, 3, 6, 5, 8, 9, 10, 17]\n",
    "print(\"list : \", list0)\n",
    "list1 = [0, 1, 2, 3, 4, 5, 6, 7, 8, 9]\n",
    "list.append(list1)\n",
    "print(\"Updated list : \", list)"
   ]
  },
  {
   "cell_type": "markdown",
   "id": "9682a905",
   "metadata": {},
   "source": [
    "15. A program to demonstrate slicing operations on the list"
   ]
  },
  {
   "cell_type": "code",
   "execution_count": 46,
   "id": "187937a9",
   "metadata": {},
   "outputs": [
    {
     "name": "stdout",
     "output_type": "stream",
     "text": [
      "String slicing\n",
      "Data Science\n",
      "aSin\n",
      "t ce\n"
     ]
    }
   ],
   "source": [
    "String = 'Data Science : Tools and Techniques'\n",
    "s1 = slice(12)\n",
    "s2 = slice(3, 10, 2)\n",
    "s3 = slice(2, 10, 2)\n",
    " \n",
    "print(\"String slicing\")\n",
    "print(String[s1])\n",
    "print(String[s2])\n",
    "print(String[s3])"
   ]
  },
  {
   "cell_type": "markdown",
   "id": "d6ec3638",
   "metadata": {},
   "source": [
    "16. A program to find minimum, maximum in a list - "
   ]
  },
  {
   "cell_type": "code",
   "execution_count": 16,
   "id": "8d8ba5e1",
   "metadata": {},
   "outputs": [
    {
     "name": "stdout",
     "output_type": "stream",
     "text": [
      "Maximun vlaue in a list : 17\n",
      "Minimum vlaue in a list : 3\n"
     ]
    }
   ],
   "source": [
    "list = [4, 4, 4, 6, 3, 6, 5, 8, 9, 10, 17]\n",
    "a = max(list)\n",
    "b = min(list)\n",
    "print(\"Maximun vlaue in a list :\" , a)\n",
    "print(\"Minimum vlaue in a list :\" , b)"
   ]
  },
  {
   "cell_type": "markdown",
   "id": "1456cd01",
   "metadata": {},
   "source": [
    "17. A program to search an element in a list, find the number of occurrences and the index of its \n",
    "first occurrence "
   ]
  },
  {
   "cell_type": "code",
   "execution_count": 46,
   "id": "8e133c81",
   "metadata": {},
   "outputs": [
    {
     "name": "stdout",
     "output_type": "stream",
     "text": [
      "Found\n"
     ]
    }
   ],
   "source": [
    "def search(list,n):\n",
    "  \n",
    "    for i in range(len(list)):\n",
    "        if list[i] == n:\n",
    "            return True\n",
    "    return False\n",
    "  \n",
    "# list which contains both string and numbers.\n",
    "list = [1, 2, 'Sameer', 4,'Ritesh', 6]\n",
    "  \n",
    "# Driver Code\n",
    "n = 'Ritesh'\n",
    "  \n",
    "if search(list, n):\n",
    "    print(\"Found\")\n",
    "else:\n",
    "    print(\"Not Found\")"
   ]
  },
  {
   "cell_type": "code",
   "execution_count": 51,
   "id": "83de4b76",
   "metadata": {},
   "outputs": [
    {
     "name": "stdout",
     "output_type": "stream",
     "text": [
      "Which value do you want to see number of occurrences : 5\n",
      "5.0 has occured 1 times\n"
     ]
    }
   ],
   "source": [
    "# find the number of occurrences\n",
    "list = [4, 4, 4, 6, 3, 6, 5, 8, 9, 10, 17]\n",
    "x=float(input(\"Which value do you want to see number of occurrences : \"))\n",
    "print(\"{} has occured {} times\". format (x, list.count(x)))\n"
   ]
  },
  {
   "cell_type": "code",
   "execution_count": 54,
   "id": "df062cdb",
   "metadata": {},
   "outputs": [
    {
     "name": "stdout",
     "output_type": "stream",
     "text": [
      "7\n"
     ]
    }
   ],
   "source": [
    "#the index of its first occurrence\n",
    "string = 'Python programming. Network programming.'\n",
    "substring = 'prog'\n",
    "\n",
    "index = string.find(substring)\n",
    "print(index)"
   ]
  },
  {
   "cell_type": "markdown",
   "id": "8a4f14bd",
   "metadata": {},
   "source": [
    "18. A program to create a 2D list"
   ]
  },
  {
   "cell_type": "code",
   "execution_count": 114,
   "id": "38261c72",
   "metadata": {},
   "outputs": [
    {
     "name": "stdout",
     "output_type": "stream",
     "text": [
      "[[0, 0, 0, 0, 0, 0, 0], [0, 0, 0, 0, 0, 0, 0], [0, 0, 0, 0, 0, 0, 0], [0, 0, 0, 0, 0, 0, 0], [0, 0, 0, 0, 0, 0, 0], [0, 0, 0, 0, 0, 0, 0], [0, 0, 0, 0, 0, 0, 0]]\n"
     ]
    }
   ],
   "source": [
    "# 2D array\n",
    "rows, cols = (7, 7)\n",
    "arr = [[0]*cols]*rows\n",
    "print(arr)"
   ]
  },
  {
   "cell_type": "markdown",
   "id": "ea46200e",
   "metadata": {},
   "source": [
    "19. A program to iterate over a 2D list in different ways"
   ]
  },
  {
   "cell_type": "code",
   "execution_count": 42,
   "id": "c6e57ea6",
   "metadata": {},
   "outputs": [
    {
     "name": "stdout",
     "output_type": "stream",
     "text": [
      "2 4 6 8 \n",
      "1 3 5 7 \n",
      "8 6 4 2 \n",
      "7 5 3 1 \n"
     ]
    }
   ],
   "source": [
    "a = [ [2, 4, 6, 8 ], \n",
    "    [ 1, 3, 5, 7 ], \n",
    "    [ 8, 6, 4, 2 ], \n",
    "    [ 7, 5, 3, 1 ] ] \n",
    "          \n",
    "for i in range(len(a)) : \n",
    "    for j in range(len(a[i])) : \n",
    "        print(a[i][j], end=\" \")\n",
    "    print()    "
   ]
  },
  {
   "cell_type": "markdown",
   "id": "650b1efd",
   "metadata": {},
   "source": [
    "20. A program to perform spilt and join operation on a list"
   ]
  },
  {
   "cell_type": "code",
   "execution_count": 44,
   "id": "25275efa",
   "metadata": {},
   "outputs": [
    {
     "name": "stdout",
     "output_type": "stream",
     "text": [
      "['Data', 'Science:', 'Tools', 'and', 'Techniques']\n",
      "Data_Science:_Tools_and_Techniques\n"
     ]
    }
   ],
   "source": [
    " \n",
    "def split_string(string):\n",
    "  \n",
    "    # Split the string based on space delimiter\n",
    "    list_string = string.split(' ')\n",
    "      \n",
    "    return list_string\n",
    "  \n",
    "def join_string(list_string):\n",
    "  \n",
    "    # Join the string based on '-' delimiter\n",
    "    string = '_'.join(list_string)\n",
    "      \n",
    "    return string\n",
    "  \n",
    "# Driver Function\n",
    "if __name__ == '__main__':\n",
    "    string = 'Data Science: Tools and Techniques'\n",
    "      \n",
    "    # Splitting a string\n",
    "    list_string = split_string(string)\n",
    "    print(list_string)\n",
    "  \n",
    "     # Join list of strings into one\n",
    "    new_string = join_string(list_string)\n",
    "    print(new_string)"
   ]
  }
 ],
 "metadata": {
  "kernelspec": {
   "display_name": "Python 3 (ipykernel)",
   "language": "python",
   "name": "python3"
  },
  "language_info": {
   "codemirror_mode": {
    "name": "ipython",
    "version": 3
   },
   "file_extension": ".py",
   "mimetype": "text/x-python",
   "name": "python",
   "nbconvert_exporter": "python",
   "pygments_lexer": "ipython3",
   "version": "3.9.7"
  }
 },
 "nbformat": 4,
 "nbformat_minor": 5
}
